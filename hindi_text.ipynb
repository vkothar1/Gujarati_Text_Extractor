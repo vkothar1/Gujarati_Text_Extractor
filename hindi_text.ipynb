{
 "cells": [
  {
   "cell_type": "code",
   "execution_count": 7,
   "metadata": {},
   "outputs": [
    {
     "name": "stderr",
     "output_type": "stream",
     "text": [
      "2025-04-13 19:03:42.089 WARNING streamlit.runtime.scriptrunner_utils.script_run_context: Thread 'MainThread': missing ScriptRunContext! This warning can be ignored when running in bare mode.\n",
      "2025-04-13 19:03:42.090 WARNING streamlit.runtime.scriptrunner_utils.script_run_context: Thread 'MainThread': missing ScriptRunContext! This warning can be ignored when running in bare mode.\n",
      "2025-04-13 19:03:42.709 \n",
      "  \u001b[33m\u001b[1mWarning:\u001b[0m to view this Streamlit app on a browser, run it with the following\n",
      "  command:\n",
      "\n",
      "    streamlit run /Library/Frameworks/Python.framework/Versions/3.9/lib/python3.9/site-packages/ipykernel_launcher.py [ARGUMENTS]\n",
      "2025-04-13 19:03:42.710 Thread 'MainThread': missing ScriptRunContext! This warning can be ignored when running in bare mode.\n",
      "2025-04-13 19:03:42.711 Thread 'MainThread': missing ScriptRunContext! This warning can be ignored when running in bare mode.\n",
      "2025-04-13 19:03:42.712 Thread 'MainThread': missing ScriptRunContext! This warning can be ignored when running in bare mode.\n",
      "2025-04-13 19:03:42.714 Thread 'MainThread': missing ScriptRunContext! This warning can be ignored when running in bare mode.\n",
      "2025-04-13 19:03:42.716 Thread 'MainThread': missing ScriptRunContext! This warning can be ignored when running in bare mode.\n",
      "2025-04-13 19:03:42.717 Thread 'MainThread': missing ScriptRunContext! This warning can be ignored when running in bare mode.\n",
      "2025-04-13 19:03:42.719 Thread 'MainThread': missing ScriptRunContext! This warning can be ignored when running in bare mode.\n",
      "2025-04-13 19:03:42.720 Thread 'MainThread': missing ScriptRunContext! This warning can be ignored when running in bare mode.\n"
     ]
    }
   ],
   "source": [
    "import streamlit as st\n",
    "from PIL import Image\n",
    "import pytesseract\n",
    "from pdf2image import convert_from_path\n",
    "from docx import Document\n",
    "import tempfile\n",
    "import os\n",
    "\n",
    "st.set_page_config(page_title=\"Gujarati Text Extractor\", layout=\"centered\")\n",
    "\n",
    "st.title(\"📄 Gujarati Text Extractor\")\n",
    "st.markdown(\"Upload your document (PDF, Image, DOCX), and this app will extract Gujarati text for you.\")\n",
    "\n",
    "uploaded_file = st.file_uploader(\"Upload a file\", type=[\"pdf\", \"png\", \"jpg\", \"jpeg\", \"docx\"])\n",
    "\n",
    "def extract_text_from_image(img):\n",
    "    return pytesseract.image_to_string(img, lang='eng+guj')\n",
    "\n",
    "def extract_text_from_pdf(pdf_file):\n",
    "    text = \"\"\n",
    "    with tempfile.NamedTemporaryFile(delete=False, suffix=\".pdf\") as tmp_pdf:\n",
    "        tmp_pdf.write(pdf_file.read())\n",
    "        tmp_pdf_path = tmp_pdf.name\n",
    "\n",
    "    images = convert_from_path(tmp_pdf_path)\n",
    "    for i, img in enumerate(images):\n",
    "        text += extract_text_from_image(img)\n",
    "        text += f\"\\n_________________________PAGE {i+1}____________________________\\n\"\n",
    "\n",
    "    os.remove(tmp_pdf_path)\n",
    "    return text\n",
    "\n",
    "def extract_text_from_docx(file):\n",
    "    doc = Document(file)\n",
    "    return '\\n'.join([p.text for p in doc.paragraphs])\n",
    "\n",
    "if uploaded_file:\n",
    "    file_type = uploaded_file.type\n",
    "\n",
    "    with st.spinner(\"🔍 Extracting text...\"):\n",
    "        if \"pdf\" in file_type:\n",
    "            result = extract_text_from_pdf(uploaded_file)\n",
    "        elif \"image\" in file_type:\n",
    "            image = Image.open(uploaded_file)\n",
    "            result = extract_text_from_image(image)\n",
    "        elif \"wordprocessingml\" in file_type:\n",
    "            result = extract_text_from_docx(uploaded_file)\n",
    "        else:\n",
    "            result = \"❌ Unsupported file type.\"\n",
    "\n",
    "    st.success(\"✅ Text extraction complete!\")\n",
    "    st.text_area(\"📝 Extracted Gujarati Text:\", value=result, height=300)\n",
    "    st.download_button(\"⬇️ Download as TXT\", result, file_name=\"gujarati_text.txt\")\n"
   ]
  }
 ],
 "metadata": {
  "kernelspec": {
   "display_name": "Python 3",
   "language": "python",
   "name": "python3"
  },
  "language_info": {
   "codemirror_mode": {
    "name": "ipython",
    "version": 3
   },
   "file_extension": ".py",
   "mimetype": "text/x-python",
   "name": "python",
   "nbconvert_exporter": "python",
   "pygments_lexer": "ipython3",
   "version": "3.9.6"
  }
 },
 "nbformat": 4,
 "nbformat_minor": 2
}
